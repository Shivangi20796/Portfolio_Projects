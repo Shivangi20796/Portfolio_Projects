{
 "cells": [
  {
   "cell_type": "code",
   "execution_count": 1,
   "metadata": {
    "colab": {
     "base_uri": "https://localhost:8080/"
    },
    "executionInfo": {
     "elapsed": 28767,
     "status": "ok",
     "timestamp": 1707459023594,
     "user": {
      "displayName": "shivangi shukla",
      "userId": "13277927328611443469"
     },
     "user_tz": -330
    },
    "id": "JrKS2xkQmR_E",
    "outputId": "5c68d2dd-1dd7-48f4-fee5-a11cf1548cce"
   },
   "outputs": [
    {
     "name": "stdout",
     "output_type": "stream",
     "text": [
      "Requirement already satisfied: numpy in c:\\users\\shivangi\\appdata\\local\\programs\\python\\python312\\lib\\site-packages (1.26.0)\n",
      "Requirement already satisfied: pandas in c:\\users\\shivangi\\appdata\\local\\programs\\python\\python312\\lib\\site-packages (2.2.0)\n",
      "Requirement already satisfied: numpy<2,>=1.26.0 in c:\\users\\shivangi\\appdata\\local\\programs\\python\\python312\\lib\\site-packages (from pandas) (1.26.0)\n",
      "Requirement already satisfied: python-dateutil>=2.8.2 in c:\\users\\shivangi\\appdata\\local\\programs\\python\\python312\\lib\\site-packages (from pandas) (2.8.2)\n",
      "Requirement already satisfied: pytz>=2020.1 in c:\\users\\shivangi\\appdata\\local\\programs\\python\\python312\\lib\\site-packages (from pandas) (2023.3.post1)\n",
      "Requirement already satisfied: tzdata>=2022.7 in c:\\users\\shivangi\\appdata\\local\\programs\\python\\python312\\lib\\site-packages (from pandas) (2023.3)\n",
      "Requirement already satisfied: six>=1.5 in c:\\users\\shivangi\\appdata\\local\\programs\\python\\python312\\lib\\site-packages (from python-dateutil>=2.8.2->pandas) (1.16.0)\n",
      "Requirement already satisfied: matplotlib in c:\\users\\shivangi\\appdata\\local\\programs\\python\\python312\\lib\\site-packages (3.8.0)\n",
      "Requirement already satisfied: contourpy>=1.0.1 in c:\\users\\shivangi\\appdata\\local\\programs\\python\\python312\\lib\\site-packages (from matplotlib) (1.1.1)\n",
      "Requirement already satisfied: cycler>=0.10 in c:\\users\\shivangi\\appdata\\local\\programs\\python\\python312\\lib\\site-packages (from matplotlib) (0.12.1)\n",
      "Requirement already satisfied: fonttools>=4.22.0 in c:\\users\\shivangi\\appdata\\local\\programs\\python\\python312\\lib\\site-packages (from matplotlib) (4.43.1)\n",
      "Requirement already satisfied: kiwisolver>=1.0.1 in c:\\users\\shivangi\\appdata\\local\\programs\\python\\python312\\lib\\site-packages (from matplotlib) (1.4.5)\n",
      "Requirement already satisfied: numpy<2,>=1.21 in c:\\users\\shivangi\\appdata\\local\\programs\\python\\python312\\lib\\site-packages (from matplotlib) (1.26.0)\n",
      "Requirement already satisfied: packaging>=20.0 in c:\\users\\shivangi\\appdata\\local\\programs\\python\\python312\\lib\\site-packages (from matplotlib) (23.2)\n",
      "Requirement already satisfied: pillow>=6.2.0 in c:\\users\\shivangi\\appdata\\local\\programs\\python\\python312\\lib\\site-packages (from matplotlib) (10.0.1)\n",
      "Requirement already satisfied: pyparsing>=2.3.1 in c:\\users\\shivangi\\appdata\\local\\programs\\python\\python312\\lib\\site-packages (from matplotlib) (3.1.1)\n",
      "Requirement already satisfied: python-dateutil>=2.7 in c:\\users\\shivangi\\appdata\\local\\programs\\python\\python312\\lib\\site-packages (from matplotlib) (2.8.2)\n",
      "Requirement already satisfied: six>=1.5 in c:\\users\\shivangi\\appdata\\local\\programs\\python\\python312\\lib\\site-packages (from python-dateutil>=2.7->matplotlib) (1.16.0)\n",
      "Requirement already satisfied: seaborn in c:\\users\\shivangi\\appdata\\local\\programs\\python\\python312\\lib\\site-packages (0.13.0)\n",
      "Requirement already satisfied: numpy!=1.24.0,>=1.20 in c:\\users\\shivangi\\appdata\\local\\programs\\python\\python312\\lib\\site-packages (from seaborn) (1.26.0)\n",
      "Requirement already satisfied: pandas>=1.2 in c:\\users\\shivangi\\appdata\\local\\programs\\python\\python312\\lib\\site-packages (from seaborn) (2.2.0)\n",
      "Requirement already satisfied: matplotlib!=3.6.1,>=3.3 in c:\\users\\shivangi\\appdata\\local\\programs\\python\\python312\\lib\\site-packages (from seaborn) (3.8.0)\n",
      "Requirement already satisfied: contourpy>=1.0.1 in c:\\users\\shivangi\\appdata\\local\\programs\\python\\python312\\lib\\site-packages (from matplotlib!=3.6.1,>=3.3->seaborn) (1.1.1)\n",
      "Requirement already satisfied: cycler>=0.10 in c:\\users\\shivangi\\appdata\\local\\programs\\python\\python312\\lib\\site-packages (from matplotlib!=3.6.1,>=3.3->seaborn) (0.12.1)\n",
      "Requirement already satisfied: fonttools>=4.22.0 in c:\\users\\shivangi\\appdata\\local\\programs\\python\\python312\\lib\\site-packages (from matplotlib!=3.6.1,>=3.3->seaborn) (4.43.1)\n",
      "Requirement already satisfied: kiwisolver>=1.0.1 in c:\\users\\shivangi\\appdata\\local\\programs\\python\\python312\\lib\\site-packages (from matplotlib!=3.6.1,>=3.3->seaborn) (1.4.5)\n",
      "Requirement already satisfied: packaging>=20.0 in c:\\users\\shivangi\\appdata\\local\\programs\\python\\python312\\lib\\site-packages (from matplotlib!=3.6.1,>=3.3->seaborn) (23.2)\n",
      "Requirement already satisfied: pillow>=6.2.0 in c:\\users\\shivangi\\appdata\\local\\programs\\python\\python312\\lib\\site-packages (from matplotlib!=3.6.1,>=3.3->seaborn) (10.0.1)\n",
      "Requirement already satisfied: pyparsing>=2.3.1 in c:\\users\\shivangi\\appdata\\local\\programs\\python\\python312\\lib\\site-packages (from matplotlib!=3.6.1,>=3.3->seaborn) (3.1.1)\n",
      "Requirement already satisfied: python-dateutil>=2.7 in c:\\users\\shivangi\\appdata\\local\\programs\\python\\python312\\lib\\site-packages (from matplotlib!=3.6.1,>=3.3->seaborn) (2.8.2)\n",
      "Requirement already satisfied: pytz>=2020.1 in c:\\users\\shivangi\\appdata\\local\\programs\\python\\python312\\lib\\site-packages (from pandas>=1.2->seaborn) (2023.3.post1)\n",
      "Requirement already satisfied: tzdata>=2022.7 in c:\\users\\shivangi\\appdata\\local\\programs\\python\\python312\\lib\\site-packages (from pandas>=1.2->seaborn) (2023.3)\n",
      "Requirement already satisfied: six>=1.5 in c:\\users\\shivangi\\appdata\\local\\programs\\python\\python312\\lib\\site-packages (from python-dateutil>=2.7->matplotlib!=3.6.1,>=3.3->seaborn) (1.16.0)\n",
      "Requirement already satisfied: scipy in c:\\users\\shivangi\\appdata\\local\\programs\\python\\python312\\lib\\site-packages (1.12.0)\n",
      "Requirement already satisfied: numpy<1.29.0,>=1.22.4 in c:\\users\\shivangi\\appdata\\local\\programs\\python\\python312\\lib\\site-packages (from scipy) (1.26.0)\n",
      "Collecting tabulate\n",
      "  Downloading tabulate-0.9.0-py3-none-any.whl (35 kB)\n",
      "Installing collected packages: tabulate\n",
      "Successfully installed tabulate-0.9.0\n"
     ]
    }
   ],
   "source": [
    "!pip install numpy\n",
    "!pip install pandas\n",
    "!pip install matplotlib\n",
    "!pip install seaborn\n",
    "!pip install scipy\n",
    "!pip install tabulate"
   ]
  },
  {
   "cell_type": "code",
   "execution_count": 3,
   "metadata": {
    "executionInfo": {
     "elapsed": 6,
     "status": "ok",
     "timestamp": 1707464212203,
     "user": {
      "displayName": "shivangi shukla",
      "userId": "13277927328611443469"
     },
     "user_tz": -330
    },
    "id": "P_rJvVWZmhwl"
   },
   "outputs": [],
   "source": [
    "# import python libraries\n",
    "import numpy as np # mathematical use\n",
    "import pandas as pd # dataframe\n",
    "import matplotlib.pyplot as plt # visualizing data\n",
    "%matplotlib inline\n",
    "import seaborn as sn\n",
    "import os"
   ]
  },
  {
   "cell_type": "code",
   "execution_count": 4,
   "metadata": {
    "executionInfo": {
     "elapsed": 7118,
     "status": "ok",
     "timestamp": 1707459111872,
     "user": {
      "displayName": "shivangi shukla",
      "userId": "13277927328611443469"
     },
     "user_tz": -330
    },
    "id": "5onHX_bcntDz"
   },
   "outputs": [
    {
     "name": "stdout",
     "output_type": "stream",
     "text": [
      "C:\\Users\\Shivangi\\Downloads\\Plum_Assigment/DA Assignment.xlsx\n"
     ]
    }
   ],
   "source": [
    "current_dir = os.getcwd()\n",
    "file_path = current_dir + \"/DA Assignment.xlsx\"\n",
    "print(file_path)"
   ]
  },
  {
   "cell_type": "code",
   "execution_count": 5,
   "metadata": {},
   "outputs": [],
   "source": [
    "df=pd.read_excel(file_path) #import excel file"
   ]
  },
  {
   "cell_type": "code",
   "execution_count": 6,
   "metadata": {
    "colab": {
     "base_uri": "https://localhost:8080/"
    },
    "executionInfo": {
     "elapsed": 14,
     "status": "ok",
     "timestamp": 1707464383962,
     "user": {
      "displayName": "shivangi shukla",
      "userId": "13277927328611443469"
     },
     "user_tz": -330
    },
    "id": "U_Zm4M4ur2bx",
    "outputId": "ad090e1e-15dd-4e54-afcc-7da7add8c4a5"
   },
   "outputs": [
    {
     "data": {
      "text/plain": [
       "(16476, 23)"
      ]
     },
     "execution_count": 6,
     "metadata": {},
     "output_type": "execute_result"
    }
   ],
   "source": [
    "df.shape # no. of row and column"
   ]
  },
  {
   "cell_type": "code",
   "execution_count": 7,
   "metadata": {
    "colab": {
     "base_uri": "https://localhost:8080/",
     "height": 550
    },
    "executionInfo": {
     "elapsed": 1164,
     "status": "ok",
     "timestamp": 1707464392706,
     "user": {
      "displayName": "shivangi shukla",
      "userId": "13277927328611443469"
     },
     "user_tz": -330
    },
    "id": "4B_2NeeIrsAL",
    "outputId": "b7f80c62-0efa-42c9-a020-bc2b4d5ad9e7"
   },
   "outputs": [
    {
     "data": {
      "text/html": [
       "<div>\n",
       "<style scoped>\n",
       "    .dataframe tbody tr th:only-of-type {\n",
       "        vertical-align: middle;\n",
       "    }\n",
       "\n",
       "    .dataframe tbody tr th {\n",
       "        vertical-align: top;\n",
       "    }\n",
       "\n",
       "    .dataframe thead th {\n",
       "        text-align: right;\n",
       "    }\n",
       "</style>\n",
       "<table border=\"1\" class=\"dataframe\">\n",
       "  <thead>\n",
       "    <tr style=\"text-align: right;\">\n",
       "      <th></th>\n",
       "      <th>Id</th>\n",
       "      <th>Requester id</th>\n",
       "      <th>Group</th>\n",
       "      <th>Status</th>\n",
       "      <th>Priority</th>\n",
       "      <th>Via</th>\n",
       "      <th>Created at</th>\n",
       "      <th>Updated at</th>\n",
       "      <th>Assigned at</th>\n",
       "      <th>Initially assigned at</th>\n",
       "      <th>...</th>\n",
       "      <th>Reopens</th>\n",
       "      <th>Replies</th>\n",
       "      <th>First reply time in minutes within business hours</th>\n",
       "      <th>First resolution time in minutes</th>\n",
       "      <th>First resolution time in minutes within business hours</th>\n",
       "      <th>Full resolution time in minutes</th>\n",
       "      <th>Full resolution time in minutes within business hours</th>\n",
       "      <th>Requester wait time in minutes</th>\n",
       "      <th>Requester wait time in minutes within business hours</th>\n",
       "      <th>Manual Tagging of Categories [list]</th>\n",
       "    </tr>\n",
       "  </thead>\n",
       "  <tbody>\n",
       "    <tr>\n",
       "      <th>0</th>\n",
       "      <td>297732</td>\n",
       "      <td>10300555531549</td>\n",
       "      <td>Support</td>\n",
       "      <td>Solved</td>\n",
       "      <td>Low</td>\n",
       "      <td>Mail</td>\n",
       "      <td>2023-04-08 20:52:00</td>\n",
       "      <td>2023-06-14 16:30:00</td>\n",
       "      <td>2023-04-09 10:28:00</td>\n",
       "      <td>2023-04-09 10:28:00</td>\n",
       "      <td>...</td>\n",
       "      <td>11</td>\n",
       "      <td>11</td>\n",
       "      <td>173.0</td>\n",
       "      <td>12975.0</td>\n",
       "      <td>6488.0</td>\n",
       "      <td>96218.0</td>\n",
       "      <td>47978.0</td>\n",
       "      <td>17853.0</td>\n",
       "      <td>8516.0</td>\n",
       "      <td>Is my treatment covered (IMTC)</td>\n",
       "    </tr>\n",
       "    <tr>\n",
       "      <th>1</th>\n",
       "      <td>311457</td>\n",
       "      <td>10420228868125</td>\n",
       "      <td>Reimbursement Claims</td>\n",
       "      <td>Closed</td>\n",
       "      <td>Low</td>\n",
       "      <td>Mail</td>\n",
       "      <td>2023-04-24 19:32:00</td>\n",
       "      <td>2023-06-15 16:37:00</td>\n",
       "      <td>2023-04-25 10:18:00</td>\n",
       "      <td>2023-04-25 10:18:00</td>\n",
       "      <td>...</td>\n",
       "      <td>10</td>\n",
       "      <td>10</td>\n",
       "      <td>1527.0</td>\n",
       "      <td>2984.0</td>\n",
       "      <td>1527.0</td>\n",
       "      <td>45893.0</td>\n",
       "      <td>22853.0</td>\n",
       "      <td>30113.0</td>\n",
       "      <td>15139.0</td>\n",
       "      <td>-</td>\n",
       "    </tr>\n",
       "    <tr>\n",
       "      <th>2</th>\n",
       "      <td>329907</td>\n",
       "      <td>10991633548957</td>\n",
       "      <td>Support</td>\n",
       "      <td>Solved</td>\n",
       "      <td>Low</td>\n",
       "      <td>Mail</td>\n",
       "      <td>2023-05-16 17:43:00</td>\n",
       "      <td>2023-05-30 14:56:00</td>\n",
       "      <td>2023-05-16 18:18:00</td>\n",
       "      <td>2023-05-16 18:18:00</td>\n",
       "      <td>...</td>\n",
       "      <td>10</td>\n",
       "      <td>11</td>\n",
       "      <td>61.0</td>\n",
       "      <td>1563.0</td>\n",
       "      <td>843.0</td>\n",
       "      <td>19993.0</td>\n",
       "      <td>9913.0</td>\n",
       "      <td>7115.0</td>\n",
       "      <td>3335.0</td>\n",
       "      <td>Claims</td>\n",
       "    </tr>\n",
       "    <tr>\n",
       "      <th>3</th>\n",
       "      <td>301553</td>\n",
       "      <td>10376247288477</td>\n",
       "      <td>Support</td>\n",
       "      <td>Solved</td>\n",
       "      <td>Low</td>\n",
       "      <td>Mail</td>\n",
       "      <td>2023-04-13 11:03:00</td>\n",
       "      <td>2023-06-15 20:55:00</td>\n",
       "      <td>2023-04-13 13:04:00</td>\n",
       "      <td>2023-04-13 13:04:00</td>\n",
       "      <td>...</td>\n",
       "      <td>9</td>\n",
       "      <td>9</td>\n",
       "      <td>381.0</td>\n",
       "      <td>2888.0</td>\n",
       "      <td>1448.0</td>\n",
       "      <td>91313.0</td>\n",
       "      <td>45953.0</td>\n",
       "      <td>18221.0</td>\n",
       "      <td>9401.0</td>\n",
       "      <td>Claims</td>\n",
       "    </tr>\n",
       "    <tr>\n",
       "      <th>4</th>\n",
       "      <td>310966</td>\n",
       "      <td>7302858920989</td>\n",
       "      <td>Support</td>\n",
       "      <td>Closed</td>\n",
       "      <td>Low</td>\n",
       "      <td>Mail</td>\n",
       "      <td>2023-04-24 13:21:00</td>\n",
       "      <td>2023-06-08 18:37:00</td>\n",
       "      <td>2023-04-27 14:48:00</td>\n",
       "      <td>2023-04-24 13:48:00</td>\n",
       "      <td>...</td>\n",
       "      <td>9</td>\n",
       "      <td>9</td>\n",
       "      <td>37.0</td>\n",
       "      <td>37.0</td>\n",
       "      <td>37.0</td>\n",
       "      <td>36304.0</td>\n",
       "      <td>17739.0</td>\n",
       "      <td>7427.0</td>\n",
       "      <td>4008.0</td>\n",
       "      <td>Claims</td>\n",
       "    </tr>\n",
       "  </tbody>\n",
       "</table>\n",
       "<p>5 rows × 23 columns</p>\n",
       "</div>"
      ],
      "text/plain": [
       "       Id    Requester id                 Group  Status Priority   Via  \\\n",
       "0  297732  10300555531549               Support  Solved      Low  Mail   \n",
       "1  311457  10420228868125  Reimbursement Claims  Closed      Low  Mail   \n",
       "2  329907  10991633548957               Support  Solved      Low  Mail   \n",
       "3  301553  10376247288477               Support  Solved      Low  Mail   \n",
       "4  310966   7302858920989               Support  Closed      Low  Mail   \n",
       "\n",
       "           Created at          Updated at         Assigned at  \\\n",
       "0 2023-04-08 20:52:00 2023-06-14 16:30:00 2023-04-09 10:28:00   \n",
       "1 2023-04-24 19:32:00 2023-06-15 16:37:00 2023-04-25 10:18:00   \n",
       "2 2023-05-16 17:43:00 2023-05-30 14:56:00 2023-05-16 18:18:00   \n",
       "3 2023-04-13 11:03:00 2023-06-15 20:55:00 2023-04-13 13:04:00   \n",
       "4 2023-04-24 13:21:00 2023-06-08 18:37:00 2023-04-27 14:48:00   \n",
       "\n",
       "  Initially assigned at  ... Reopens  Replies  \\\n",
       "0   2023-04-09 10:28:00  ...      11       11   \n",
       "1   2023-04-25 10:18:00  ...      10       10   \n",
       "2   2023-05-16 18:18:00  ...      10       11   \n",
       "3   2023-04-13 13:04:00  ...       9        9   \n",
       "4   2023-04-24 13:48:00  ...       9        9   \n",
       "\n",
       "  First reply time in minutes within business hours  \\\n",
       "0                                             173.0   \n",
       "1                                            1527.0   \n",
       "2                                              61.0   \n",
       "3                                             381.0   \n",
       "4                                              37.0   \n",
       "\n",
       "   First resolution time in minutes  \\\n",
       "0                           12975.0   \n",
       "1                            2984.0   \n",
       "2                            1563.0   \n",
       "3                            2888.0   \n",
       "4                              37.0   \n",
       "\n",
       "   First resolution time in minutes within business hours  \\\n",
       "0                                             6488.0        \n",
       "1                                             1527.0        \n",
       "2                                              843.0        \n",
       "3                                             1448.0        \n",
       "4                                               37.0        \n",
       "\n",
       "   Full resolution time in minutes  \\\n",
       "0                          96218.0   \n",
       "1                          45893.0   \n",
       "2                          19993.0   \n",
       "3                          91313.0   \n",
       "4                          36304.0   \n",
       "\n",
       "   Full resolution time in minutes within business hours  \\\n",
       "0                                            47978.0       \n",
       "1                                            22853.0       \n",
       "2                                             9913.0       \n",
       "3                                            45953.0       \n",
       "4                                            17739.0       \n",
       "\n",
       "   Requester wait time in minutes  \\\n",
       "0                         17853.0   \n",
       "1                         30113.0   \n",
       "2                          7115.0   \n",
       "3                         18221.0   \n",
       "4                          7427.0   \n",
       "\n",
       "   Requester wait time in minutes within business hours  \\\n",
       "0                                             8516.0      \n",
       "1                                            15139.0      \n",
       "2                                             3335.0      \n",
       "3                                             9401.0      \n",
       "4                                             4008.0      \n",
       "\n",
       "   Manual Tagging of Categories [list]  \n",
       "0       Is my treatment covered (IMTC)  \n",
       "1                                    -  \n",
       "2                               Claims  \n",
       "3                               Claims  \n",
       "4                               Claims  \n",
       "\n",
       "[5 rows x 23 columns]"
      ]
     },
     "execution_count": 7,
     "metadata": {},
     "output_type": "execute_result"
    }
   ],
   "source": [
    "df.head()"
   ]
  },
  {
   "cell_type": "code",
   "execution_count": 8,
   "metadata": {
    "colab": {
     "base_uri": "https://localhost:8080/"
    },
    "executionInfo": {
     "elapsed": 13,
     "status": "ok",
     "timestamp": 1707464409735,
     "user": {
      "displayName": "shivangi shukla",
      "userId": "13277927328611443469"
     },
     "user_tz": -330
    },
    "id": "CiB50fvVr_tm",
    "outputId": "51c121f8-f057-4110-9c4a-2e23aeab9310"
   },
   "outputs": [
    {
     "name": "stdout",
     "output_type": "stream",
     "text": [
      "<class 'pandas.core.frame.DataFrame'>\n",
      "RangeIndex: 16476 entries, 0 to 16475\n",
      "Data columns (total 23 columns):\n",
      " #   Column                                                  Non-Null Count  Dtype         \n",
      "---  ------                                                  --------------  -----         \n",
      " 0   Id                                                      16476 non-null  int64         \n",
      " 1   Requester id                                            16476 non-null  int64         \n",
      " 2   Group                                                   16476 non-null  object        \n",
      " 3   Status                                                  16476 non-null  object        \n",
      " 4   Priority                                                16476 non-null  object        \n",
      " 5   Via                                                     16476 non-null  object        \n",
      " 6   Created at                                              16476 non-null  datetime64[ns]\n",
      " 7   Updated at                                              16476 non-null  datetime64[ns]\n",
      " 8   Assigned at                                             16347 non-null  datetime64[ns]\n",
      " 9   Initially assigned at                                   16347 non-null  datetime64[ns]\n",
      " 10  Solved at                                               14409 non-null  datetime64[ns]\n",
      " 11  Resolution time                                         14409 non-null  float64       \n",
      " 12  Satisfaction Score                                      5453 non-null   object        \n",
      " 13  Reopens                                                 16476 non-null  int64         \n",
      " 14  Replies                                                 16476 non-null  int64         \n",
      " 15  First reply time in minutes within business hours       12760 non-null  float64       \n",
      " 16  First resolution time in minutes                        14834 non-null  float64       \n",
      " 17  First resolution time in minutes within business hours  14834 non-null  float64       \n",
      " 18  Full resolution time in minutes                         14409 non-null  float64       \n",
      " 19  Full resolution time in minutes within business hours   14409 non-null  float64       \n",
      " 20  Requester wait time in minutes                          16327 non-null  float64       \n",
      " 21  Requester wait time in minutes within business hours    16327 non-null  float64       \n",
      " 22  Manual Tagging of Categories [list]                     16476 non-null  object        \n",
      "dtypes: datetime64[ns](5), float64(8), int64(4), object(6)\n",
      "memory usage: 2.9+ MB\n"
     ]
    }
   ],
   "source": [
    "df.info()"
   ]
  },
  {
   "cell_type": "markdown",
   "metadata": {
    "id": "An6qJaGfsuaq"
   },
   "source": [
    "**DATA CLEANING**"
   ]
  },
  {
   "cell_type": "code",
   "execution_count": 11,
   "metadata": {
    "colab": {
     "base_uri": "https://localhost:8080/"
    },
    "executionInfo": {
     "elapsed": 509,
     "status": "ok",
     "timestamp": 1707459129993,
     "user": {
      "displayName": "shivangi shukla",
      "userId": "13277927328611443469"
     },
     "user_tz": -330
    },
    "id": "f4y2AwfLsokw",
    "outputId": "43a8f67c-8c53-43ca-e2ac-5ddc36319bb4"
   },
   "outputs": [
    {
     "name": "stdout",
     "output_type": "stream",
     "text": [
      "Missing Values Table:\n",
      "Id                                                            0\n",
      "Requester id                                                  0\n",
      "Group                                                         0\n",
      "Status                                                        0\n",
      "Priority                                                      0\n",
      "Via                                                           0\n",
      "Created at                                                    0\n",
      "Updated at                                                    0\n",
      "Assigned at                                                   0\n",
      "Initially assigned at                                         0\n",
      "Solved at                                                     0\n",
      "Resolution time                                               0\n",
      "Satisfaction Score                                        11023\n",
      "Reopens                                                       0\n",
      "Replies                                                       0\n",
      "First reply time in minutes within business hours             0\n",
      "First resolution time in minutes                              0\n",
      "First resolution time in minutes within business hours        0\n",
      "Full resolution time in minutes                               0\n",
      "Full resolution time in minutes within business hours         0\n",
      "Requester wait time in minutes                                0\n",
      "Requester wait time in minutes within business hours          0\n",
      "Manual Tagging of Categories [list]                           0\n",
      "dtype: int64\n"
     ]
    }
   ],
   "source": [
    "# Check for missing values\n",
    "missing_values = df.isnull().sum()\n",
    "print(\"Missing Values Table:\")\n",
    "print(missing_values)"
   ]
  },
  {
   "cell_type": "code",
   "execution_count": 21,
   "metadata": {
    "executionInfo": {
     "elapsed": 385,
     "status": "ok",
     "timestamp": 1707459133785,
     "user": {
      "displayName": "shivangi shukla",
      "userId": "13277927328611443469"
     },
     "user_tz": -330
    },
    "id": "qrqPkKMouaOi"
   },
   "outputs": [],
   "source": [
    "numeric_columns = ['Assigned at', 'Initially assigned at', 'Solved at', 'Resolution time', 'First reply time in minutes within business hours', 'First resolution time in minutes', 'First resolution time in minutes within business hours', 'Full resolution time in minutes', 'Full resolution time in minutes within business hours', 'Requester wait time in minutes', 'Requester wait time in minutes within business hours']\n",
    "\n",
    "for column in numeric_columns:\n",
    "    df.loc[:, column] = df[column].fillna(df[column].mean())"
   ]
  },
  {
   "cell_type": "code",
   "execution_count": 22,
   "metadata": {
    "executionInfo": {
     "elapsed": 494,
     "status": "ok",
     "timestamp": 1707459137441,
     "user": {
      "displayName": "shivangi shukla",
      "userId": "13277927328611443469"
     },
     "user_tz": -330
    },
    "id": "xdJbXPX8vGg2"
   },
   "outputs": [],
   "source": [
    "# Replace missing values in 'Satisfaction Score' column with a placeholder value\n",
    "df.loc[:, 'Satisfaction Score'] = df['Satisfaction Score'].fillna('Not Available')"
   ]
  },
  {
   "cell_type": "code",
   "execution_count": 23,
   "metadata": {
    "colab": {
     "base_uri": "https://localhost:8080/"
    },
    "executionInfo": {
     "elapsed": 521,
     "status": "ok",
     "timestamp": 1707459140643,
     "user": {
      "displayName": "shivangi shukla",
      "userId": "13277927328611443469"
     },
     "user_tz": -330
    },
    "id": "svNOfpv5pK_i",
    "outputId": "a825dca5-695c-45b6-8fc7-7ded2f8b73a3"
   },
   "outputs": [
    {
     "name": "stdout",
     "output_type": "stream",
     "text": [
      "Data Types:\n",
      "Id                                                                 int64\n",
      "Requester id                                                       int64\n",
      "Group                                                             object\n",
      "Status                                                            object\n",
      "Priority                                                          object\n",
      "Via                                                               object\n",
      "Created at                                                datetime64[ns]\n",
      "Updated at                                                datetime64[ns]\n",
      "Assigned at                                               datetime64[ns]\n",
      "Initially assigned at                                     datetime64[ns]\n",
      "Solved at                                                 datetime64[ns]\n",
      "Resolution time                                                  float64\n",
      "Satisfaction Score                                                object\n",
      "Reopens                                                            int64\n",
      "Replies                                                            int64\n",
      "First reply time in minutes within business hours                float64\n",
      "First resolution time in minutes                                 float64\n",
      "First resolution time in minutes within business hours           float64\n",
      "Full resolution time in minutes                                  float64\n",
      "Full resolution time in minutes within business hours            float64\n",
      "Requester wait time in minutes                                   float64\n",
      "Requester wait time in minutes within business hours             float64\n",
      "Manual Tagging of Categories [list]                               object\n",
      "dtype: object\n"
     ]
    }
   ],
   "source": [
    "#  Check data types\n",
    "data_types = df.dtypes\n",
    "print(\"Data Types:\")\n",
    "print(data_types)"
   ]
  },
  {
   "cell_type": "code",
   "execution_count": 24,
   "metadata": {
    "colab": {
     "base_uri": "https://localhost:8080/"
    },
    "executionInfo": {
     "elapsed": 676,
     "status": "ok",
     "timestamp": 1707459144744,
     "user": {
      "displayName": "shivangi shukla",
      "userId": "13277927328611443469"
     },
     "user_tz": -330
    },
    "id": "ew247UjmpkLy",
    "outputId": "c8405193-3a96-453d-d8db-d1c686cc15e3"
   },
   "outputs": [
    {
     "name": "stdout",
     "output_type": "stream",
     "text": [
      "duplicates Values in a Table:\n",
      "0        False\n",
      "1        False\n",
      "2        False\n",
      "3        False\n",
      "4        False\n",
      "         ...  \n",
      "16471    False\n",
      "16472    False\n",
      "16473    False\n",
      "16474    False\n",
      "16475    False\n",
      "Length: 16476, dtype: bool\n"
     ]
    }
   ],
   "source": [
    "# Check for duplicate values\n",
    "duplicates = df.duplicated()\n",
    "print(\"duplicates Values in a Table:\")\n",
    "print(duplicates)"
   ]
  },
  {
   "cell_type": "code",
   "execution_count": 25,
   "metadata": {
    "executionInfo": {
     "elapsed": 7500,
     "status": "ok",
     "timestamp": 1707459155101,
     "user": {
      "displayName": "shivangi shukla",
      "userId": "13277927328611443469"
     },
     "user_tz": -330
    },
    "id": "Hr1xI-jequiL"
   },
   "outputs": [],
   "source": [
    "# Save the cleaned dataset to a new file or overwrite the existing one\n",
    "df.to_excel('cleaned_data.xlsx', index=False)"
   ]
  },
  {
   "cell_type": "code",
   "execution_count": 18,
   "metadata": {
    "colab": {
     "base_uri": "https://localhost:8080/",
     "height": 550
    },
    "executionInfo": {
     "elapsed": 433,
     "status": "ok",
     "timestamp": 1707459161654,
     "user": {
      "displayName": "shivangi shukla",
      "userId": "13277927328611443469"
     },
     "user_tz": -330
    },
    "id": "G1xmIcD5rLf1",
    "outputId": "7e48d469-6819-4d6f-b15b-643b7f70543d"
   },
   "outputs": [
    {
     "data": {
      "text/html": [
       "<div>\n",
       "<style scoped>\n",
       "    .dataframe tbody tr th:only-of-type {\n",
       "        vertical-align: middle;\n",
       "    }\n",
       "\n",
       "    .dataframe tbody tr th {\n",
       "        vertical-align: top;\n",
       "    }\n",
       "\n",
       "    .dataframe thead th {\n",
       "        text-align: right;\n",
       "    }\n",
       "</style>\n",
       "<table border=\"1\" class=\"dataframe\">\n",
       "  <thead>\n",
       "    <tr style=\"text-align: right;\">\n",
       "      <th></th>\n",
       "      <th>Id</th>\n",
       "      <th>Requester id</th>\n",
       "      <th>Group</th>\n",
       "      <th>Status</th>\n",
       "      <th>Priority</th>\n",
       "      <th>Via</th>\n",
       "      <th>Created at</th>\n",
       "      <th>Updated at</th>\n",
       "      <th>Assigned at</th>\n",
       "      <th>Initially assigned at</th>\n",
       "      <th>...</th>\n",
       "      <th>Reopens</th>\n",
       "      <th>Replies</th>\n",
       "      <th>First reply time in minutes within business hours</th>\n",
       "      <th>First resolution time in minutes</th>\n",
       "      <th>First resolution time in minutes within business hours</th>\n",
       "      <th>Full resolution time in minutes</th>\n",
       "      <th>Full resolution time in minutes within business hours</th>\n",
       "      <th>Requester wait time in minutes</th>\n",
       "      <th>Requester wait time in minutes within business hours</th>\n",
       "      <th>Manual Tagging of Categories [list]</th>\n",
       "    </tr>\n",
       "  </thead>\n",
       "  <tbody>\n",
       "    <tr>\n",
       "      <th>0</th>\n",
       "      <td>297732</td>\n",
       "      <td>10300555531549</td>\n",
       "      <td>Support</td>\n",
       "      <td>Solved</td>\n",
       "      <td>Low</td>\n",
       "      <td>Mail</td>\n",
       "      <td>2023-04-08 20:52:00</td>\n",
       "      <td>2023-06-14 16:30:00</td>\n",
       "      <td>2023-04-09 10:28:00</td>\n",
       "      <td>2023-04-09 10:28:00</td>\n",
       "      <td>...</td>\n",
       "      <td>11</td>\n",
       "      <td>11</td>\n",
       "      <td>173.0</td>\n",
       "      <td>12975.0</td>\n",
       "      <td>6488.0</td>\n",
       "      <td>96218.0</td>\n",
       "      <td>47978.0</td>\n",
       "      <td>17853.0</td>\n",
       "      <td>8516.0</td>\n",
       "      <td>Is my treatment covered (IMTC)</td>\n",
       "    </tr>\n",
       "    <tr>\n",
       "      <th>1</th>\n",
       "      <td>311457</td>\n",
       "      <td>10420228868125</td>\n",
       "      <td>Reimbursement Claims</td>\n",
       "      <td>Closed</td>\n",
       "      <td>Low</td>\n",
       "      <td>Mail</td>\n",
       "      <td>2023-04-24 19:32:00</td>\n",
       "      <td>2023-06-15 16:37:00</td>\n",
       "      <td>2023-04-25 10:18:00</td>\n",
       "      <td>2023-04-25 10:18:00</td>\n",
       "      <td>...</td>\n",
       "      <td>10</td>\n",
       "      <td>10</td>\n",
       "      <td>1527.0</td>\n",
       "      <td>2984.0</td>\n",
       "      <td>1527.0</td>\n",
       "      <td>45893.0</td>\n",
       "      <td>22853.0</td>\n",
       "      <td>30113.0</td>\n",
       "      <td>15139.0</td>\n",
       "      <td>-</td>\n",
       "    </tr>\n",
       "    <tr>\n",
       "      <th>2</th>\n",
       "      <td>329907</td>\n",
       "      <td>10991633548957</td>\n",
       "      <td>Support</td>\n",
       "      <td>Solved</td>\n",
       "      <td>Low</td>\n",
       "      <td>Mail</td>\n",
       "      <td>2023-05-16 17:43:00</td>\n",
       "      <td>2023-05-30 14:56:00</td>\n",
       "      <td>2023-05-16 18:18:00</td>\n",
       "      <td>2023-05-16 18:18:00</td>\n",
       "      <td>...</td>\n",
       "      <td>10</td>\n",
       "      <td>11</td>\n",
       "      <td>61.0</td>\n",
       "      <td>1563.0</td>\n",
       "      <td>843.0</td>\n",
       "      <td>19993.0</td>\n",
       "      <td>9913.0</td>\n",
       "      <td>7115.0</td>\n",
       "      <td>3335.0</td>\n",
       "      <td>Claims</td>\n",
       "    </tr>\n",
       "    <tr>\n",
       "      <th>3</th>\n",
       "      <td>301553</td>\n",
       "      <td>10376247288477</td>\n",
       "      <td>Support</td>\n",
       "      <td>Solved</td>\n",
       "      <td>Low</td>\n",
       "      <td>Mail</td>\n",
       "      <td>2023-04-13 11:03:00</td>\n",
       "      <td>2023-06-15 20:55:00</td>\n",
       "      <td>2023-04-13 13:04:00</td>\n",
       "      <td>2023-04-13 13:04:00</td>\n",
       "      <td>...</td>\n",
       "      <td>9</td>\n",
       "      <td>9</td>\n",
       "      <td>381.0</td>\n",
       "      <td>2888.0</td>\n",
       "      <td>1448.0</td>\n",
       "      <td>91313.0</td>\n",
       "      <td>45953.0</td>\n",
       "      <td>18221.0</td>\n",
       "      <td>9401.0</td>\n",
       "      <td>Claims</td>\n",
       "    </tr>\n",
       "    <tr>\n",
       "      <th>4</th>\n",
       "      <td>310966</td>\n",
       "      <td>7302858920989</td>\n",
       "      <td>Support</td>\n",
       "      <td>Closed</td>\n",
       "      <td>Low</td>\n",
       "      <td>Mail</td>\n",
       "      <td>2023-04-24 13:21:00</td>\n",
       "      <td>2023-06-08 18:37:00</td>\n",
       "      <td>2023-04-27 14:48:00</td>\n",
       "      <td>2023-04-24 13:48:00</td>\n",
       "      <td>...</td>\n",
       "      <td>9</td>\n",
       "      <td>9</td>\n",
       "      <td>37.0</td>\n",
       "      <td>37.0</td>\n",
       "      <td>37.0</td>\n",
       "      <td>36304.0</td>\n",
       "      <td>17739.0</td>\n",
       "      <td>7427.0</td>\n",
       "      <td>4008.0</td>\n",
       "      <td>Claims</td>\n",
       "    </tr>\n",
       "  </tbody>\n",
       "</table>\n",
       "<p>5 rows × 23 columns</p>\n",
       "</div>"
      ],
      "text/plain": [
       "       Id    Requester id                 Group  Status Priority   Via  \\\n",
       "0  297732  10300555531549               Support  Solved      Low  Mail   \n",
       "1  311457  10420228868125  Reimbursement Claims  Closed      Low  Mail   \n",
       "2  329907  10991633548957               Support  Solved      Low  Mail   \n",
       "3  301553  10376247288477               Support  Solved      Low  Mail   \n",
       "4  310966   7302858920989               Support  Closed      Low  Mail   \n",
       "\n",
       "           Created at          Updated at         Assigned at  \\\n",
       "0 2023-04-08 20:52:00 2023-06-14 16:30:00 2023-04-09 10:28:00   \n",
       "1 2023-04-24 19:32:00 2023-06-15 16:37:00 2023-04-25 10:18:00   \n",
       "2 2023-05-16 17:43:00 2023-05-30 14:56:00 2023-05-16 18:18:00   \n",
       "3 2023-04-13 11:03:00 2023-06-15 20:55:00 2023-04-13 13:04:00   \n",
       "4 2023-04-24 13:21:00 2023-06-08 18:37:00 2023-04-27 14:48:00   \n",
       "\n",
       "  Initially assigned at  ... Reopens  Replies  \\\n",
       "0   2023-04-09 10:28:00  ...      11       11   \n",
       "1   2023-04-25 10:18:00  ...      10       10   \n",
       "2   2023-05-16 18:18:00  ...      10       11   \n",
       "3   2023-04-13 13:04:00  ...       9        9   \n",
       "4   2023-04-24 13:48:00  ...       9        9   \n",
       "\n",
       "  First reply time in minutes within business hours  \\\n",
       "0                                             173.0   \n",
       "1                                            1527.0   \n",
       "2                                              61.0   \n",
       "3                                             381.0   \n",
       "4                                              37.0   \n",
       "\n",
       "   First resolution time in minutes  \\\n",
       "0                           12975.0   \n",
       "1                            2984.0   \n",
       "2                            1563.0   \n",
       "3                            2888.0   \n",
       "4                              37.0   \n",
       "\n",
       "   First resolution time in minutes within business hours  \\\n",
       "0                                             6488.0        \n",
       "1                                             1527.0        \n",
       "2                                              843.0        \n",
       "3                                             1448.0        \n",
       "4                                               37.0        \n",
       "\n",
       "   Full resolution time in minutes  \\\n",
       "0                          96218.0   \n",
       "1                          45893.0   \n",
       "2                          19993.0   \n",
       "3                          91313.0   \n",
       "4                          36304.0   \n",
       "\n",
       "   Full resolution time in minutes within business hours  \\\n",
       "0                                            47978.0       \n",
       "1                                            22853.0       \n",
       "2                                             9913.0       \n",
       "3                                            45953.0       \n",
       "4                                            17739.0       \n",
       "\n",
       "   Requester wait time in minutes  \\\n",
       "0                         17853.0   \n",
       "1                         30113.0   \n",
       "2                          7115.0   \n",
       "3                         18221.0   \n",
       "4                          7427.0   \n",
       "\n",
       "   Requester wait time in minutes within business hours  \\\n",
       "0                                             8516.0      \n",
       "1                                            15139.0      \n",
       "2                                             3335.0      \n",
       "3                                             9401.0      \n",
       "4                                             4008.0      \n",
       "\n",
       "   Manual Tagging of Categories [list]  \n",
       "0       Is my treatment covered (IMTC)  \n",
       "1                                    -  \n",
       "2                               Claims  \n",
       "3                               Claims  \n",
       "4                               Claims  \n",
       "\n",
       "[5 rows x 23 columns]"
      ]
     },
     "execution_count": 18,
     "metadata": {},
     "output_type": "execute_result"
    }
   ],
   "source": [
    "df.head()"
   ]
  },
  {
   "cell_type": "markdown",
   "metadata": {
    "id": "A_4ezz_3rr_6"
   },
   "source": [
    "**Data Analysis and Visualization**"
   ]
  },
  {
   "cell_type": "code",
   "execution_count": 27,
   "metadata": {
    "colab": {
     "base_uri": "https://localhost:8080/",
     "height": 424
    },
    "executionInfo": {
     "elapsed": 407,
     "status": "ok",
     "timestamp": 1707459166460,
     "user": {
      "displayName": "shivangi shukla",
      "userId": "13277927328611443469"
     },
     "user_tz": -330
    },
    "id": "MjE2XuFxrwC_",
    "outputId": "8826612f-388f-4ba4-cfe4-54f22637446a"
   },
   "outputs": [
    {
     "data": {
      "text/html": [
       "<div>\n",
       "<style scoped>\n",
       "    .dataframe tbody tr th:only-of-type {\n",
       "        vertical-align: middle;\n",
       "    }\n",
       "\n",
       "    .dataframe tbody tr th {\n",
       "        vertical-align: top;\n",
       "    }\n",
       "\n",
       "    .dataframe thead th {\n",
       "        text-align: right;\n",
       "    }\n",
       "</style>\n",
       "<table border=\"1\" class=\"dataframe\">\n",
       "  <thead>\n",
       "    <tr style=\"text-align: right;\">\n",
       "      <th></th>\n",
       "      <th>Id</th>\n",
       "      <th>Requester id</th>\n",
       "      <th>Created at</th>\n",
       "      <th>Updated at</th>\n",
       "      <th>Assigned at</th>\n",
       "      <th>Initially assigned at</th>\n",
       "      <th>Solved at</th>\n",
       "      <th>Resolution time</th>\n",
       "      <th>Reopens</th>\n",
       "      <th>Replies</th>\n",
       "      <th>First reply time in minutes within business hours</th>\n",
       "      <th>First resolution time in minutes</th>\n",
       "      <th>First resolution time in minutes within business hours</th>\n",
       "      <th>Full resolution time in minutes</th>\n",
       "      <th>Full resolution time in minutes within business hours</th>\n",
       "      <th>Requester wait time in minutes</th>\n",
       "      <th>Requester wait time in minutes within business hours</th>\n",
       "    </tr>\n",
       "  </thead>\n",
       "  <tbody>\n",
       "    <tr>\n",
       "      <th>count</th>\n",
       "      <td>16476.000000</td>\n",
       "      <td>1.647600e+04</td>\n",
       "      <td>16476</td>\n",
       "      <td>16476</td>\n",
       "      <td>16476</td>\n",
       "      <td>16476</td>\n",
       "      <td>16476</td>\n",
       "      <td>16476.000000</td>\n",
       "      <td>16476.000000</td>\n",
       "      <td>16476.000000</td>\n",
       "      <td>16476.000000</td>\n",
       "      <td>16476.000000</td>\n",
       "      <td>16476.000000</td>\n",
       "      <td>16476.000000</td>\n",
       "      <td>16476.000000</td>\n",
       "      <td>16476.000000</td>\n",
       "      <td>16476.000000</td>\n",
       "    </tr>\n",
       "    <tr>\n",
       "      <th>mean</th>\n",
       "      <td>316876.239743</td>\n",
       "      <td>8.422350e+12</td>\n",
       "      <td>2023-05-01 06:50:28.721776896</td>\n",
       "      <td>2023-05-27 03:16:13.368536320</td>\n",
       "      <td>2023-05-03 21:48:01.163516416</td>\n",
       "      <td>2023-05-03 06:29:41.244264704</td>\n",
       "      <td>2023-05-09 05:58:24.318134784</td>\n",
       "      <td>205.246235</td>\n",
       "      <td>0.242899</td>\n",
       "      <td>2.152525</td>\n",
       "      <td>1852.113950</td>\n",
       "      <td>10177.772752</td>\n",
       "      <td>5131.839693</td>\n",
       "      <td>12314.136304</td>\n",
       "      <td>6196.644320</td>\n",
       "      <td>10443.141238</td>\n",
       "      <td>5259.864213</td>\n",
       "    </tr>\n",
       "    <tr>\n",
       "      <th>min</th>\n",
       "      <td>291015.000000</td>\n",
       "      <td>5.879787e+12</td>\n",
       "      <td>2023-04-01 00:31:00</td>\n",
       "      <td>2023-04-02 21:35:00</td>\n",
       "      <td>2023-04-01 10:03:00</td>\n",
       "      <td>2023-04-01 10:03:00</td>\n",
       "      <td>2023-04-01 12:17:00</td>\n",
       "      <td>0.000000</td>\n",
       "      <td>0.000000</td>\n",
       "      <td>0.000000</td>\n",
       "      <td>0.000000</td>\n",
       "      <td>0.000000</td>\n",
       "      <td>0.000000</td>\n",
       "      <td>0.000000</td>\n",
       "      <td>0.000000</td>\n",
       "      <td>0.000000</td>\n",
       "      <td>0.000000</td>\n",
       "    </tr>\n",
       "    <tr>\n",
       "      <th>25%</th>\n",
       "      <td>303624.750000</td>\n",
       "      <td>7.273930e+12</td>\n",
       "      <td>2023-04-15 07:00:00</td>\n",
       "      <td>2023-05-16 06:10:00</td>\n",
       "      <td>2023-04-18 10:01:30</td>\n",
       "      <td>2023-04-17 15:52:45</td>\n",
       "      <td>2023-04-24 17:40:00</td>\n",
       "      <td>28.000000</td>\n",
       "      <td>0.000000</td>\n",
       "      <td>1.000000</td>\n",
       "      <td>180.000000</td>\n",
       "      <td>1192.000000</td>\n",
       "      <td>567.750000</td>\n",
       "      <td>1657.750000</td>\n",
       "      <td>867.000000</td>\n",
       "      <td>956.750000</td>\n",
       "      <td>501.750000</td>\n",
       "    </tr>\n",
       "    <tr>\n",
       "      <th>50%</th>\n",
       "      <td>316564.500000</td>\n",
       "      <td>7.306863e+12</td>\n",
       "      <td>2023-05-01 07:00:00</td>\n",
       "      <td>2023-06-01 00:43:00</td>\n",
       "      <td>2023-05-03 21:48:01.163516416</td>\n",
       "      <td>2023-05-03 06:29:41.244264960</td>\n",
       "      <td>2023-05-09 05:58:24.318134528</td>\n",
       "      <td>126.000000</td>\n",
       "      <td>0.000000</td>\n",
       "      <td>1.000000</td>\n",
       "      <td>1062.000000</td>\n",
       "      <td>5534.500000</td>\n",
       "      <td>2749.000000</td>\n",
       "      <td>7562.000000</td>\n",
       "      <td>3828.000000</td>\n",
       "      <td>4322.000000</td>\n",
       "      <td>2160.000000</td>\n",
       "    </tr>\n",
       "    <tr>\n",
       "      <th>75%</th>\n",
       "      <td>330251.250000</td>\n",
       "      <td>1.011376e+13</td>\n",
       "      <td>2023-05-17 07:00:00</td>\n",
       "      <td>2023-06-07 14:01:30</td>\n",
       "      <td>2023-05-18 19:23:30</td>\n",
       "      <td>2023-05-18 14:06:00</td>\n",
       "      <td>2023-05-23 16:05:15</td>\n",
       "      <td>221.000000</td>\n",
       "      <td>0.000000</td>\n",
       "      <td>3.000000</td>\n",
       "      <td>1852.113950</td>\n",
       "      <td>10607.250000</td>\n",
       "      <td>5406.250000</td>\n",
       "      <td>13254.000000</td>\n",
       "      <td>6660.250000</td>\n",
       "      <td>12102.000000</td>\n",
       "      <td>6172.250000</td>\n",
       "    </tr>\n",
       "    <tr>\n",
       "      <th>max</th>\n",
       "      <td>344028.000000</td>\n",
       "      <td>1.129824e+13</td>\n",
       "      <td>2023-05-31 23:43:00</td>\n",
       "      <td>2023-06-19 08:47:00</td>\n",
       "      <td>2023-06-16 19:01:00</td>\n",
       "      <td>2023-06-16 18:47:00</td>\n",
       "      <td>2023-06-19 08:47:00</td>\n",
       "      <td>1805.000000</td>\n",
       "      <td>11.000000</td>\n",
       "      <td>36.000000</td>\n",
       "      <td>52770.000000</td>\n",
       "      <td>108322.000000</td>\n",
       "      <td>54322.000000</td>\n",
       "      <td>108322.000000</td>\n",
       "      <td>54322.000000</td>\n",
       "      <td>108942.000000</td>\n",
       "      <td>54355.000000</td>\n",
       "    </tr>\n",
       "    <tr>\n",
       "      <th>std</th>\n",
       "      <td>15369.829459</td>\n",
       "      <td>1.545776e+12</td>\n",
       "      <td>NaN</td>\n",
       "      <td>NaN</td>\n",
       "      <td>NaN</td>\n",
       "      <td>NaN</td>\n",
       "      <td>NaN</td>\n",
       "      <td>265.158773</td>\n",
       "      <td>0.705320</td>\n",
       "      <td>2.681740</td>\n",
       "      <td>3446.977016</td>\n",
       "      <td>14463.643166</td>\n",
       "      <td>7235.388570</td>\n",
       "      <td>15909.522940</td>\n",
       "      <td>7953.074587</td>\n",
       "      <td>15786.631835</td>\n",
       "      <td>7882.108175</td>\n",
       "    </tr>\n",
       "  </tbody>\n",
       "</table>\n",
       "</div>"
      ],
      "text/plain": [
       "                  Id  Requester id                     Created at  \\\n",
       "count   16476.000000  1.647600e+04                          16476   \n",
       "mean   316876.239743  8.422350e+12  2023-05-01 06:50:28.721776896   \n",
       "min    291015.000000  5.879787e+12            2023-04-01 00:31:00   \n",
       "25%    303624.750000  7.273930e+12            2023-04-15 07:00:00   \n",
       "50%    316564.500000  7.306863e+12            2023-05-01 07:00:00   \n",
       "75%    330251.250000  1.011376e+13            2023-05-17 07:00:00   \n",
       "max    344028.000000  1.129824e+13            2023-05-31 23:43:00   \n",
       "std     15369.829459  1.545776e+12                            NaN   \n",
       "\n",
       "                          Updated at                    Assigned at  \\\n",
       "count                          16476                          16476   \n",
       "mean   2023-05-27 03:16:13.368536320  2023-05-03 21:48:01.163516416   \n",
       "min              2023-04-02 21:35:00            2023-04-01 10:03:00   \n",
       "25%              2023-05-16 06:10:00            2023-04-18 10:01:30   \n",
       "50%              2023-06-01 00:43:00  2023-05-03 21:48:01.163516416   \n",
       "75%              2023-06-07 14:01:30            2023-05-18 19:23:30   \n",
       "max              2023-06-19 08:47:00            2023-06-16 19:01:00   \n",
       "std                              NaN                            NaN   \n",
       "\n",
       "               Initially assigned at                      Solved at  \\\n",
       "count                          16476                          16476   \n",
       "mean   2023-05-03 06:29:41.244264704  2023-05-09 05:58:24.318134784   \n",
       "min              2023-04-01 10:03:00            2023-04-01 12:17:00   \n",
       "25%              2023-04-17 15:52:45            2023-04-24 17:40:00   \n",
       "50%    2023-05-03 06:29:41.244264960  2023-05-09 05:58:24.318134528   \n",
       "75%              2023-05-18 14:06:00            2023-05-23 16:05:15   \n",
       "max              2023-06-16 18:47:00            2023-06-19 08:47:00   \n",
       "std                              NaN                            NaN   \n",
       "\n",
       "       Resolution time       Reopens       Replies  \\\n",
       "count     16476.000000  16476.000000  16476.000000   \n",
       "mean        205.246235      0.242899      2.152525   \n",
       "min           0.000000      0.000000      0.000000   \n",
       "25%          28.000000      0.000000      1.000000   \n",
       "50%         126.000000      0.000000      1.000000   \n",
       "75%         221.000000      0.000000      3.000000   \n",
       "max        1805.000000     11.000000     36.000000   \n",
       "std         265.158773      0.705320      2.681740   \n",
       "\n",
       "       First reply time in minutes within business hours  \\\n",
       "count                                       16476.000000   \n",
       "mean                                         1852.113950   \n",
       "min                                             0.000000   \n",
       "25%                                           180.000000   \n",
       "50%                                          1062.000000   \n",
       "75%                                          1852.113950   \n",
       "max                                         52770.000000   \n",
       "std                                          3446.977016   \n",
       "\n",
       "       First resolution time in minutes  \\\n",
       "count                      16476.000000   \n",
       "mean                       10177.772752   \n",
       "min                            0.000000   \n",
       "25%                         1192.000000   \n",
       "50%                         5534.500000   \n",
       "75%                        10607.250000   \n",
       "max                       108322.000000   \n",
       "std                        14463.643166   \n",
       "\n",
       "       First resolution time in minutes within business hours  \\\n",
       "count                                       16476.000000        \n",
       "mean                                         5131.839693        \n",
       "min                                             0.000000        \n",
       "25%                                           567.750000        \n",
       "50%                                          2749.000000        \n",
       "75%                                          5406.250000        \n",
       "max                                         54322.000000        \n",
       "std                                          7235.388570        \n",
       "\n",
       "       Full resolution time in minutes  \\\n",
       "count                     16476.000000   \n",
       "mean                      12314.136304   \n",
       "min                           0.000000   \n",
       "25%                        1657.750000   \n",
       "50%                        7562.000000   \n",
       "75%                       13254.000000   \n",
       "max                      108322.000000   \n",
       "std                       15909.522940   \n",
       "\n",
       "       Full resolution time in minutes within business hours  \\\n",
       "count                                       16476.000000       \n",
       "mean                                         6196.644320       \n",
       "min                                             0.000000       \n",
       "25%                                           867.000000       \n",
       "50%                                          3828.000000       \n",
       "75%                                          6660.250000       \n",
       "max                                         54322.000000       \n",
       "std                                          7953.074587       \n",
       "\n",
       "       Requester wait time in minutes  \\\n",
       "count                    16476.000000   \n",
       "mean                     10443.141238   \n",
       "min                          0.000000   \n",
       "25%                        956.750000   \n",
       "50%                       4322.000000   \n",
       "75%                      12102.000000   \n",
       "max                     108942.000000   \n",
       "std                      15786.631835   \n",
       "\n",
       "       Requester wait time in minutes within business hours  \n",
       "count                                       16476.000000     \n",
       "mean                                         5259.864213     \n",
       "min                                             0.000000     \n",
       "25%                                           501.750000     \n",
       "50%                                          2160.000000     \n",
       "75%                                          6172.250000     \n",
       "max                                         54355.000000     \n",
       "std                                          7882.108175     "
      ]
     },
     "execution_count": 27,
     "metadata": {},
     "output_type": "execute_result"
    }
   ],
   "source": [
    "df.describe()"
   ]
  },
  {
   "cell_type": "code",
   "execution_count": 28,
   "metadata": {
    "colab": {
     "base_uri": "https://localhost:8080/"
    },
    "executionInfo": {
     "elapsed": 439,
     "status": "ok",
     "timestamp": 1707459170774,
     "user": {
      "displayName": "shivangi shukla",
      "userId": "13277927328611443469"
     },
     "user_tz": -330
    },
    "id": "wT9nCsfHumdH",
    "outputId": "354c895e-8dab-45ab-9811-2a095690f4d6"
   },
   "outputs": [
    {
     "name": "stdout",
     "output_type": "stream",
     "text": [
      "Average Resolution Time: 205.24623499201888 minutes\n",
      "\n"
     ]
    }
   ],
   "source": [
    "# 1. How are the efficiency numbers looking like?\n",
    "# Calculate and print average resolution time\n",
    "average_resolution_time = df['Resolution time'].mean()\n",
    "print(f\"Average Resolution Time: {average_resolution_time} minutes\\n\")"
   ]
  },
  {
   "cell_type": "code",
   "execution_count": 29,
   "metadata": {
    "colab": {
     "base_uri": "https://localhost:8080/",
     "height": 674
    },
    "executionInfo": {
     "elapsed": 1230,
     "status": "ok",
     "timestamp": 1707459175252,
     "user": {
      "displayName": "shivangi shukla",
      "userId": "13277927328611443469"
     },
     "user_tz": -330
    },
    "id": "A2kyhlBrsLoL",
    "outputId": "d78cf1d3-789f-4233-cf75-93b4c2382f69"
   },
   "outputs": [
    {
     "data": {
      "image/png": "[encoded data removed]",
      "text/plain": [
       "<Figure size 1000x600 with 1 Axes>"
      ]
     },
     "metadata": {},
     "output_type": "display_data"
    }
   ],
   "source": [
    "# 2. Views on efficiency for different groups\n",
    "# Calculate and plot average resolution time for each group\n",
    "group_efficiency = df.groupby('Group')['Resolution time'].mean().sort_values()\n",
    "plt.figure(figsize=(10, 6))\n",
    "sn.barplot(x=group_efficiency.index, y=group_efficiency.values)\n",
    "plt.title('Average Resolution Time by Group')\n",
    "plt.xlabel('Group')\n",
    "plt.ylabel('Average Resolution Time (minutes)')\n",
    "plt.xticks(rotation=45, ha='right')\n",
    "plt.show()"
   ]
  },
  {
   "cell_type": "code",
   "execution_count": 31,
   "metadata": {
    "colab": {
     "base_uri": "https://localhost:8080/"
    },
    "executionInfo": {
     "elapsed": 481,
     "status": "ok",
     "timestamp": 1707459302844,
     "user": {
      "displayName": "shivangi shukla",
      "userId": "13277927328611443469"
     },
     "user_tz": -330
    },
    "id": "NZzrgIK5sdbv",
    "outputId": "b70c08ac-4eba-446f-9b62-dd6629fed061"
   },
   "outputs": [
    {
     "name": "stdout",
     "output_type": "stream",
     "text": [
      "\n",
      "Ticket Types and Average Resolution Time:\n",
      "+----------------------+-------------------------+\n",
      "|     Ticket Type      | Average Resolution Time |\n",
      "+----------------------+-------------------------+\n",
      "|     Onboardings      |   466.75680412006636    |\n",
      "|     Endorsements     |   241.02145682173602    |\n",
      "| Reimbursement Claims |   239.34989639619127    |\n",
      "|       Support        |   117.09284532509137    |\n",
      "+----------------------+-------------------------+\n"
     ]
    }
   ],
   "source": [
    "# 3. Tickets taking the most time to resolve\n",
    "# Identify ticket types and their average resolution time\n",
    "ticket_types = df['Group'].unique()  # Assuming there is a 'Type' column\n",
    "type_resolution_time = {}\n",
    "\n",
    "for ticket_type in ticket_types:\n",
    "    type_resolution_time[ticket_type] = df[df['Group'] == ticket_type]['Resolution time'].mean()\n",
    "\n",
    "# Create a table\n",
    "from tabulate import tabulate\n",
    "\n",
    "table = tabulate(type_resolution_df, headers='keys', tablefmt='pretty', showindex=False)\n",
    "\n",
    "# Print the table\n",
    "print(\"\\nTicket Types and Average Resolution Time:\")\n",
    "print(table)"
   ]
  },
  {
   "cell_type": "code",
   "execution_count": 32,
   "metadata": {
    "colab": {
     "base_uri": "https://localhost:8080/",
     "height": 674
    },
    "executionInfo": {
     "elapsed": 724,
     "status": "ok",
     "timestamp": 1707459406070,
     "user": {
      "displayName": "shivangi shukla",
      "userId": "13277927328611443469"
     },
     "user_tz": -330
    },
    "id": "d9BIFLa2gnTM",
    "outputId": "3ec7b998-763a-4809-ce04-3bfd93a62c5f"
   },
   "outputs": [
    {
     "data": {
      "image/png": "[encoded data removed]",
      "text/plain": [
       "<Figure size 1000x600 with 1 Axes>"
      ]
     },
     "metadata": {},
     "output_type": "display_data"
    }
   ],
   "source": [
    "# Create a bar chart\n",
    "plt.figure(figsize=(10, 6))\n",
    "sn.barplot(x=type_resolution_df['Ticket Type'], y=type_resolution_df['Average Resolution Time'])\n",
    "plt.title('Average Resolution Time by Ticket Type')\n",
    "plt.xlabel('Ticket Type')\n",
    "plt.ylabel('Average Resolution Time (minutes)')\n",
    "plt.xticks(rotation=45, ha='right')\n",
    "plt.show()"
   ]
  }
 ],
 "metadata": {
  "colab": {
   "authorship_tag": "ABX9TyNWJuVaPXqlelIIupaDChpd",
   "mount_file_id": "1gCbdT-GVna-UXjU6Qgux0TVUQ0nXxm5v",
   "provenance": []
  },
  "kernelspec": {
   "display_name": "Python 3 (ipykernel)",
   "language": "python",
   "name": "python3"
  },
  "language_info": {
   "codemirror_mode": {
    "name": "ipython",
    "version": 3
   },
   "file_extension": ".py",
   "mimetype": "text/x-python",
   "name": "python",
   "nbconvert_exporter": "python",
   "pygments_lexer": "ipython3",
   "version": "3.12.1"
  }
 },
 "nbformat": 4,
 "nbformat_minor": 4
}
